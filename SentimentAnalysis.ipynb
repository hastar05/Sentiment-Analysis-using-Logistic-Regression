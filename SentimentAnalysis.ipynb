{
  "cells": [
    {
      "cell_type": "code",
      "execution_count": null,
      "metadata": {
        "id": "HEqRB1OiSmrH"
      },
      "outputs": [],
      "source": [
        "import numpy as np\n",
        "import pandas as pd\n",
        "import matplotlib.pyplot as plt\n",
        "from google.colab import files\n",
        "\n",
        "%matplotlib inline"
      ]
    },
    {
      "cell_type": "markdown",
      "metadata": {
        "id": "FWdCyBKrHkwj"
      },
      "source": [
        "# EXTRACTING GENERAL INFORMATION"
      ]
    },
    {
      "cell_type": "code",
      "execution_count": null,
      "metadata": {
        "colab": {
          "base_uri": "https://localhost:8080/"
        },
        "id": "TQ0F-oY8rGiA",
        "outputId": "cf32bd3f-9ec6-463a-fec8-50e5ba25b37e"
      },
      "outputs": [
        {
          "name": "stdout",
          "output_type": "stream",
          "text": [
            "Mounted at /content/drive\n"
          ]
        }
      ],
      "source": [
        "from google.colab import drive\n",
        "drive.mount('/content/drive')"
      ]
    },
    {
      "cell_type": "code",
      "execution_count": null,
      "metadata": {
        "colab": {
          "base_uri": "https://localhost:8080/",
          "height": 224
        },
        "id": "-G6JwfG-rVli",
        "outputId": "d67f37cb-7633-4d08-f902-824e32c90608"
      },
      "outputs": [],
      "source": [
        "Review_data = pd.read_csv(\"train.csv\")"
      ]
    },
    {
      "cell_type": "code",
      "execution_count": null,
      "metadata": {
        "id": "4SDcEYwXYjpm"
      },
      "outputs": [],
      "source": [
        "Review_data.shape"
      ]
    },
    {
      "cell_type": "code",
      "execution_count": null,
      "metadata": {
        "id": "Qhf2UkEG3I3U"
      },
      "outputs": [],
      "source": [
        "Review_data.head()"
      ]
    },
    {
      "cell_type": "code",
      "execution_count": null,
      "metadata": {
        "id": "OVgKGVre7FiQ"
      },
      "outputs": [],
      "source": [
        "Review_data.info()"
      ]
    },
    {
      "cell_type": "code",
      "execution_count": null,
      "metadata": {
        "id": "T2Qsp8KE7aMT"
      },
      "outputs": [],
      "source": [
        "Review_data.describe().transpose()"
      ]
    },
    {
      "cell_type": "markdown",
      "metadata": {
        "id": "tq_72o_g7qYI"
      },
      "source": [
        "# DATA CLEANING"
      ]
    },
    {
      "cell_type": "code",
      "execution_count": null,
      "metadata": {
        "id": "0d9zWrap7pnT"
      },
      "outputs": [],
      "source": [
        "count = Review_data.isnull().sum().sort_values(ascending=False)\n",
        "percentage = ((Review_data.isnull().sum()/len(Review_data)*100)).sort_values(ascending=False)\n",
        "missing_data = pd.concat([count,percentage], axis=1, keys=['Count','Percentage'])\n",
        "print(' Count and Percentage of missing values for the columns : ')\n",
        "missing_data"
      ]
    },
    {
      "cell_type": "code",
      "execution_count": null,
      "metadata": {
        "id": "78gPzkIu-4gA"
      },
      "outputs": [],
      "source": [
        "print(' Percentage for Default \\n')\n",
        "print(round(Review_data.Is_Response.value_counts(normalize=True)*100,2))\n",
        "round(Review_data.Is_Response.value_counts(normalize=True)*100,2).plot(kind='bar')\n",
        "plt.title('Percentage Distribution by review type')\n",
        "plt.show()"
      ]
    },
    {
      "cell_type": "code",
      "execution_count": null,
      "metadata": {
        "id": "Zj-2BKcAAa2D"
      },
      "outputs": [],
      "source": [
        "Review_data.drop(columns=['User_ID', 'Browser_Used', 'Device_Used'],inplace=True)"
      ]
    },
    {
      "cell_type": "code",
      "execution_count": null,
      "metadata": {
        "id": "w5EpDgtAFne5"
      },
      "outputs": [],
      "source": [
        "import re\n",
        "import string\n",
        "\n",
        "def text_clean_1(text):\n",
        "  text = text.lower()\n",
        "  text = re.sub('\\[.*?\\]', '', text)\n",
        "  text = re.sub('[%s]' % re.escape(string.punctuation), '', text)\n",
        "  text = re.sub('\\w*\\d\\w*', '', text)\n",
        "  return text\n",
        "\n",
        "cleaned_1 = lambda x: text_clean_1(x)"
      ]
    },
    {
      "cell_type": "code",
      "execution_count": null,
      "metadata": {
        "id": "DQo5eQ6JINb6"
      },
      "outputs": [],
      "source": [
        "Review_data['Clean Description'] = pd.DataFrame(Review_data.Description.apply(cleaned_1))\n",
        "Review_data.head(10)"
      ]
    },
    {
      "cell_type": "markdown",
      "metadata": {
        "id": "nzsqmNVRg0oU"
      },
      "source": []
    },
    {
      "cell_type": "code",
      "execution_count": null,
      "metadata": {
        "id": "mNY14-qAI4dR"
      },
      "outputs": [],
      "source": [
        "def text_clean_2(text):\n",
        "  text = re.sub('[''\"\"...]', '', text)\n",
        "  text = re.sub('\\n', '', text)\n",
        "  return text\n",
        "\n",
        "cleaned_2 = lambda x: text_clean_2(x)"
      ]
    },
    {
      "cell_type": "code",
      "execution_count": null,
      "metadata": {
        "id": "YtsvLTdvKBIh"
      },
      "outputs": [],
      "source": [
        "Review_data['New_Clean_Description'] = pd.DataFrame(Review_data['Clean Description'].apply(cleaned_2))\n",
        "Review_data.head(10)"
      ]
    },
    {
      "cell_type": "markdown",
      "metadata": {
        "id": "_AVzBDdWKwUN"
      },
      "source": [
        "# MODEL TRAINING"
      ]
    },
    {
      "cell_type": "code",
      "execution_count": null,
      "metadata": {
        "id": "_WoEH51TK1gM"
      },
      "outputs": [],
      "source": [
        "from sklearn.model_selection import train_test_split\n",
        "\n",
        "X = Review_data.New_Clean_Description\n",
        "Y = Review_data.Is_Response\n",
        "\n",
        "x_train, x_test, y_train, y_test = train_test_split(X, Y, test_size = 0.33, random_state = 101)\n"
      ]
    },
    {
      "cell_type": "code",
      "execution_count": null,
      "metadata": {
        "id": "fchYoG0OcVsi"
      },
      "outputs": [],
      "source": [
        "from sklearn.feature_extraction.text import TfidfVectorizer\n",
        "from sklearn.linear_model import LogisticRegression\n",
        "tvec = TfidfVectorizer()\n",
        "clf2 = LogisticRegression(solver = 'lbfgs')\n",
        "\n",
        "from sklearn.pipeline import Pipeline"
      ]
    },
    {
      "cell_type": "code",
      "execution_count": null,
      "metadata": {
        "id": "zEn4mqJfdPPs"
      },
      "outputs": [],
      "source": [
        "model = Pipeline([('vectorizer', tvec), ('classifier', clf2)])\n",
        "model.fit(x_train, y_train)"
      ]
    },
    {
      "cell_type": "code",
      "execution_count": null,
      "metadata": {
        "id": "Y9q6vZi7dsKH"
      },
      "outputs": [],
      "source": [
        "from sklearn.metrics import classification_report, confusion_matrix\n",
        "\n",
        "pred = model.predict(x_test)\n",
        "confusion_matrix(pred,y_test)"
      ]
    },
    {
      "cell_type": "markdown",
      "metadata": {
        "id": "9wMeUThieN_x"
      },
      "source": [
        "# MODEL PREDICTION DATA"
      ]
    },
    {
      "cell_type": "code",
      "execution_count": null,
      "metadata": {
        "id": "291nC86feG2H"
      },
      "outputs": [],
      "source": [
        "classification_report(y_test, pred)"
      ]
    },
    {
      "cell_type": "code",
      "execution_count": null,
      "metadata": {
        "id": "ir1hhsMyeZ0J"
      },
      "outputs": [],
      "source": [
        "from sklearn.metrics import accuracy_score, precision_score\n",
        "print(\"Accuracy: \", accuracy_score(pred,y_test))\n",
        "print(\"Precision: \", precision_score(pred,y_test, average=\"weighted\"))"
      ]
    },
    {
      "cell_type": "markdown",
      "metadata": {
        "id": "Rd3O9Idle-T2"
      },
      "source": [
        "# TRYING ON UNFORESEEN DATA"
      ]
    },
    {
      "cell_type": "code",
      "execution_count": null,
      "metadata": {
        "id": "DIiW42zAezOa"
      },
      "outputs": [],
      "source": [
        "review_1 = [\"I'm not satisfied with the management\"]    # Review from User 1\n",
        "res = model.predict(review_1)\n",
        "res"
      ]
    },
    {
      "cell_type": "code",
      "execution_count": null,
      "metadata": {
        "id": "_xwMfw06mUsw"
      },
      "outputs": [],
      "source": [
        "review_2 = [\"It was fantastic\"]     # Review from User 2\n",
        "res = model.predict(review_2)\n",
        "res"
      ]
    },
    {
      "cell_type": "markdown",
      "metadata": {
        "id": "GXf7Oy4aYT4K"
      },
      "source": [
        "# G.U.I. APPLICATION"
      ]
    },
    {
      "cell_type": "code",
      "execution_count": null,
      "metadata": {
        "id": "Wp6UuVRhYbaj"
      },
      "outputs": [],
      "source": [
        "#@title Hotel Review {run : \"auto\"}\n",
        "Give_Review =  \"the stay was qui\" #@param {type:\"string\"}\n",
        "res = model.predict([Give_Review])\n",
        "res"
      ]
    }
  ],
  "metadata": {
    "colab": {
      "collapsed_sections": [
        "FWdCyBKrHkwj",
        "tq_72o_g7qYI"
      ],
      "provenance": []
    },
    "kernelspec": {
      "display_name": "Python 3",
      "name": "python3"
    },
    "language_info": {
      "name": "python"
    }
  },
  "nbformat": 4,
  "nbformat_minor": 0
}
